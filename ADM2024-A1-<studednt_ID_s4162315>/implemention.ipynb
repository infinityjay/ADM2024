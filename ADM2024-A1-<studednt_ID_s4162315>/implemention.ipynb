{
 "cells": [
  {
   "cell_type": "markdown",
   "metadata": {},
   "source": [
    "This part is an implemention with Python of query 1 and query 6, which can query the same data as q1.sql and q6.sql from the DBMS. I will read the data directly from tbl files, and use data frame to filter the conditions."
   ]
  },
  {
   "cell_type": "markdown",
   "metadata": {},
   "source": [
    "1. implemention of q6.sql and q1.sql with SF-1 data."
   ]
  },
  {
   "cell_type": "code",
   "execution_count": 1,
   "metadata": {},
   "outputs": [
    {
     "name": "stdout",
     "output_type": "stream",
     "text": [
      "   l_orderkey  l_partkey  l_suppkey  l_linenumber  l_quantity  \\\n",
      "0           1     155190       7706             1          17   \n",
      "1           1      67310       7311             2          36   \n",
      "2           1      63700       3701             3           8   \n",
      "3           1       2132       4633             4          28   \n",
      "4           1      24027       1534             5          24   \n",
      "\n",
      "   l_extendedprice  l_discount  l_tax l_returnflag l_linestatus  l_shipdate  \\\n",
      "0         21168.23        0.04   0.02            N            O  1996-03-13   \n",
      "1         45983.16        0.09   0.06            N            O  1996-04-12   \n",
      "2         13309.60        0.10   0.02            N            O  1996-01-29   \n",
      "3         28955.64        0.09   0.06            N            O  1996-04-21   \n",
      "4         22824.48        0.10   0.04            N            O  1996-03-30   \n",
      "\n",
      "  l_commitdate l_receiptdate     l_shipinstruct l_shipmode  \\\n",
      "0   1996-02-12    1996-03-22  DELIVER IN PERSON      TRUCK   \n",
      "1   1996-02-28    1996-04-20   TAKE BACK RETURN       MAIL   \n",
      "2   1996-03-05    1996-01-31   TAKE BACK RETURN    REG AIR   \n",
      "3   1996-03-30    1996-05-16               NONE        AIR   \n",
      "4   1996-03-14    1996-04-01               NONE        FOB   \n",
      "\n",
      "                            l_comment  \n",
      "0             egular courts above the  \n",
      "1  ly final dependencies: slyly bold   \n",
      "2       riously. regular, express dep  \n",
      "3             lites. fluffily even de  \n",
      "4             pending foxes. slyly re  \n"
     ]
    }
   ],
   "source": [
    "# load data\n",
    "import pandas as pd\n",
    "\n",
    "# Define the column names based on the schema\n",
    "columns = [\n",
    "    'l_orderkey', 'l_partkey', 'l_suppkey', 'l_linenumber', \n",
    "    'l_quantity', 'l_extendedprice', 'l_discount', 'l_tax', \n",
    "    'l_returnflag', 'l_linestatus', 'l_shipdate', 'l_commitdate', \n",
    "    'l_receiptdate', 'l_shipinstruct', 'l_shipmode', 'l_comment'\n",
    "]\n",
    "\n",
    "df = pd.read_csv('/Users/jay/Desktop/lessons material/2024-2/Advanced data management/assignment 01/TPC-H_V3.0.1++/dbgen/SF-1/data/lineitem.tbl', \n",
    "                 sep='|', header=None, names=columns, index_col=False, engine='python')\n",
    "\n",
    "print(df.head())\n",
    "\n"
   ]
  },
  {
   "cell_type": "code",
   "execution_count": 93,
   "metadata": {},
   "outputs": [
    {
     "name": "stdout",
     "output_type": "stream",
     "text": [
      "Query execution time: 64.5300 ms\n",
      "123141078.22829999\n"
     ]
    },
    {
     "name": "stderr",
     "output_type": "stream",
     "text": [
      "/var/folders/z7/xnwcgx9d04q493pxbdg5xkzh0000gn/T/ipykernel_4703/3800549251.py:17: SettingWithCopyWarning: \n",
      "A value is trying to be set on a copy of a slice from a DataFrame.\n",
      "Try using .loc[row_indexer,col_indexer] = value instead\n",
      "\n",
      "See the caveats in the documentation: https://pandas.pydata.org/pandas-docs/stable/user_guide/indexing.html#returning-a-view-versus-a-copy\n",
      "  filtered_df['revenue'] = filtered_df['l_extendedprice'] * filtered_df['l_discount']\n"
     ]
    }
   ],
   "source": [
    "# implement the query 06\n",
    "import time\n",
    "import numpy as np\n",
    "\n",
    "quantity_list = np.arange(1,24,1)\n",
    "start_time = time.time()*1000\n",
    "\n",
    "# Filter the DataFrame based on conditions\n",
    "filtered_df = df[\n",
    "    (df['l_discount'].between(0.05, 0.07)) &\n",
    "    (df['l_quantity'] < 24) &\n",
    "    (df['l_shipdate'] >= '1994-01-01') &\n",
    "    (df['l_shipdate'] < '1995-01-01')\n",
    "]\n",
    "\n",
    "# Calculate the revenue\n",
    "filtered_df['revenue'] = filtered_df['l_extendedprice'] * filtered_df['l_discount']\n",
    "\n",
    "# Sum the revenue\n",
    "total_revenue = filtered_df['revenue'].sum()\n",
    "\n",
    "# End timing the query\n",
    "end_time = time.time()*1000\n",
    "\n",
    "# Calculate the query time\n",
    "query_time = end_time - start_time\n",
    "\n",
    "print(f\"Query execution time: {query_time:.4f} ms\")\n",
    "print(total_revenue)"
   ]
  },
  {
   "cell_type": "code",
   "execution_count": 59,
   "metadata": {},
   "outputs": [
    {
     "name": "stdout",
     "output_type": "stream",
     "text": [
      "Query execution time: 1726.8889 ms\n"
     ]
    }
   ],
   "source": [
    "# implement the query 01\n",
    "\n",
    "df['l_shipdate'] = pd.to_datetime(df['l_shipdate'], format='%Y-%m-%d')\n",
    "df['l_commitdate'] = pd.to_datetime(df['l_commitdate'], format='%Y-%m-%d')\n",
    "df['l_receiptdate'] = pd.to_datetime(df['l_receiptdate'], format='%Y-%m-%d')\n",
    "\n",
    "# Start query\n",
    "start_time = time.time()*1000\n",
    "\n",
    "# Filter DataFrame for l_shipdate less than or equal to 90 days before '1998-12-01'\n",
    "cutoff_date = pd.to_datetime('1998-12-01') - pd.DateOffset(days=90)\n",
    "filtered_df = df[df['l_shipdate'] <= cutoff_date]\n",
    "\n",
    "# Group by l_returnflag and l_linestatus, then aggregate\n",
    "result = filtered_df.groupby(['l_returnflag', 'l_linestatus']).agg(\n",
    "    sum_qty=('l_quantity', 'sum'),\n",
    "    sum_base_price=('l_extendedprice', 'sum'),\n",
    "    sum_disc_price=('l_extendedprice', lambda x: (x * (1 - filtered_df.loc[x.index, 'l_discount'])).sum()),\n",
    "    sum_charge=('l_extendedprice', lambda x: (x * (1 - filtered_df.loc[x.index, 'l_discount']) * (1 + filtered_df.loc[x.index, 'l_tax'])).sum()),\n",
    "    avg_qty=('l_quantity', 'mean'),\n",
    "    avg_price=('l_extendedprice', 'mean'),\n",
    "    avg_disc=('l_discount', 'mean'),\n",
    "    count_order=('l_orderkey', 'count')\n",
    ").reset_index()\n",
    "\n",
    "# Sort the results by l_returnflag and l_linestatus\n",
    "result_q1 = result.sort_values(by=['l_returnflag', 'l_linestatus'])\n",
    "\n",
    "# end query\n",
    "end_time = time.time()*1000\n",
    "\n",
    "query_time = end_time - start_time\n",
    "print(f\"Query execution time: {query_time:.4f} ms\")"
   ]
  },
  {
   "cell_type": "code",
   "execution_count": 100,
   "metadata": {},
   "outputs": [
    {
     "name": "stdout",
     "output_type": "stream",
     "text": [
      "Query 1 0 unacceptable missmatches.\n"
     ]
    },
    {
     "name": "stderr",
     "output_type": "stream",
     "text": [
      "/var/folders/z7/xnwcgx9d04q493pxbdg5xkzh0000gn/T/ipykernel_4703/3842612555.py:10: FutureWarning: DataFrame.applymap has been deprecated. Use DataFrame.map instead.\n",
      "  format_res_q1 = result_q1.applymap(format_number)\n",
      "/var/folders/z7/xnwcgx9d04q493pxbdg5xkzh0000gn/T/ipykernel_4703/3842612555.py:11: FutureWarning: DataFrame.applymap has been deprecated. Use DataFrame.map instead.\n",
      "  format_correct = correct_results.applymap(format_number)\n"
     ]
    }
   ],
   "source": [
    "# verify the result of query 01\n",
    "\n",
    "# read the standard value from csv file\n",
    "correct_results = pd.read_csv(\"/Users/jay/Desktop/lessons material/2024-2/Advanced data management/assignment 01/TPC-H_V3.0.1++/dbgen/SF-1/results/q01.res.csv\")\n",
    "# transfer all of the number to .2f\n",
    "def format_number(value):\n",
    "    if isinstance(value, (int, float)):\n",
    "        return f\"{value:.2f}\"\n",
    "    return value \n",
    "format_res_q1 = result_q1.applymap(format_number)\n",
    "format_correct = correct_results.applymap(format_number)\n",
    "\n",
    "comparison_result = format_res_q1 == format_correct\n",
    "if comparison_result.values.all():\n",
    "    print(\"Query 1 0 unacceptable missmatches.\")\n",
    "else:\n",
    "    print(\"ERROR: Query 1 has missmatches!\")"
   ]
  }
 ],
 "metadata": {
  "kernelspec": {
   "display_name": "Python 3",
   "language": "python",
   "name": "python3"
  },
  "language_info": {
   "codemirror_mode": {
    "name": "ipython",
    "version": 3
   },
   "file_extension": ".py",
   "mimetype": "text/x-python",
   "name": "python",
   "nbconvert_exporter": "python",
   "pygments_lexer": "ipython3",
   "version": "3.12.2"
  }
 },
 "nbformat": 4,
 "nbformat_minor": 2
}
