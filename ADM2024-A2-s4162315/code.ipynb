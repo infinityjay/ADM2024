{
  "nbformat": 4,
  "nbformat_minor": 0,
  "metadata": {
    "colab": {
      "provenance": []
    },
    "kernelspec": {
      "name": "python3",
      "display_name": "Python 3"
    }
  },
  "cells": [
    {
      "cell_type": "markdown",
      "metadata": {
        "id": "x4UIW8GUQaqt"
      },
      "source": [
        "# **SETUP**"
      ]
    },
    {
      "cell_type": "markdown",
      "metadata": {
        "id": "XXvRwAVPGtiX"
      },
      "source": [
        "First we need to install duckdb."
      ]
    },
    {
      "cell_type": "markdown",
      "metadata": {
        "id": "Ysi7m4vvxpxk"
      },
      "source": [
        "In this assignment, you will experiment with the NYC Cab dataset from 2016. This dataset provides information (e.g., pickup/dropoff time, # of passengers, trip distance, fare) about cab trips done in New York City during 2016. You can learn more about the dataset clicking [here!](https://www1.nyc.gov/site/tlc/about/tlc-trip-record-data.page)\n",
        "\n",
        "You will load this dataset into pandas, sqlite, and duckdb. You will compare the performance of multiple data-science like queries, including performing a fare estimation (i.e., predicting how much a ride will cost depending on distance) using machine learning.\n",
        "\n",
        "In the first section you will implement the loader in duckdb **[5 points].**\n",
        "\n",
        "The second section has two data-science like queries, the implementation in pandas is already given, and you should use it as a logical/correctness reference to write the queries for sqlite and duckdb, remember to compare the performance of the three different systems **[10 + 15 = 25 points]**.\n",
        "\n",
        "Finally, in the third section you will implement a simple machine learning algorithm in duckdb to predict fare costs. A full implementation of pandas is given and a partial of sqlite. Again, use them as a logical/correctness reference and compare the performance of the three different systems. **[40 points]**\n",
        "\n",
        "Remember to submit your notebook with the answers to all sections as well as a PDF document (max two papes) listing all experienced execution times and reasoning about the performance difference in these systems."
      ]
    },
    {
      "cell_type": "code",
      "metadata": {
        "id": "IFC0Acb9Gu8W",
        "colab": {
          "base_uri": "https://localhost:8080/"
        },
        "outputId": "7746b9e8-14c7-45de-a14d-610b3b1c2471"
      },
      "source": [
        "!pip install duckdb --upgrade"
      ],
      "execution_count": 1,
      "outputs": [
        {
          "output_type": "stream",
          "name": "stdout",
          "text": [
            "Requirement already satisfied: duckdb in /usr/local/lib/python3.10/dist-packages (1.1.1)\n"
          ]
        }
      ]
    },
    {
      "cell_type": "markdown",
      "metadata": {
        "id": "XDQF0N7HJIQ_"
      },
      "source": [
        "Now we download the NYC Cab dataset as Parquet file."
      ]
    },
    {
      "cell_type": "code",
      "metadata": {
        "id": "9RXn51F_JMpn",
        "colab": {
          "base_uri": "https://localhost:8080/"
        },
        "outputId": "c7ed3bc2-2ca6-4273-9c3b-0640bc0cdb6d"
      },
      "source": [
        "!wget \"https://d37ci6vzurychx.cloudfront.net/trip-data/yellow_tripdata_2016-01.parquet\""
      ],
      "execution_count": 2,
      "outputs": [
        {
          "output_type": "stream",
          "name": "stdout",
          "text": [
            "--2024-10-06 09:01:37--  https://d37ci6vzurychx.cloudfront.net/trip-data/yellow_tripdata_2016-01.parquet\n",
            "Resolving d37ci6vzurychx.cloudfront.net (d37ci6vzurychx.cloudfront.net)... 18.154.99.47, 18.154.99.225, 18.154.99.220, ...\n",
            "Connecting to d37ci6vzurychx.cloudfront.net (d37ci6vzurychx.cloudfront.net)|18.154.99.47|:443... connected.\n",
            "HTTP request sent, awaiting response... 200 OK\n",
            "Length: 151251087 (144M) [application/x-www-form-urlencoded]\n",
            "Saving to: ‘yellow_tripdata_2016-01.parquet’\n",
            "\n",
            "yellow_tripdata_201 100%[===================>] 144.24M   171MB/s    in 0.8s    \n",
            "\n",
            "2024-10-06 09:01:38 (171 MB/s) - ‘yellow_tripdata_2016-01.parquet’ saved [151251087/151251087]\n",
            "\n"
          ]
        }
      ]
    },
    {
      "cell_type": "markdown",
      "metadata": {
        "id": "ryMJZSckLmqG"
      },
      "source": [
        "# **Loading The Data** [5pts]"
      ]
    },
    {
      "cell_type": "markdown",
      "metadata": {
        "id": "EJSvVxkOL6af"
      },
      "source": [
        "In this section your goal is to write code to load the data in duckdb.\n",
        "\n",
        "First, run the code to load the data into Pandas and SQLite as provided:\n"
      ]
    },
    {
      "cell_type": "code",
      "metadata": {
        "id": "nBPmYEMLNQ63",
        "colab": {
          "base_uri": "https://localhost:8080/"
        },
        "outputId": "2970a92a-ace3-4d7e-bb79-ff94c7b3bee7"
      },
      "source": [
        "import pandas\n",
        "import sqlite3\n",
        "\n",
        "\n",
        "print('\\nPandas:')\n",
        "\n",
        "# Creates Pandas Dataframe from Parquet\n",
        "yellow_tripdata_pandas = pandas.read_parquet('yellow_tripdata_2016-01.parquet')\n",
        "\n",
        "print(len(yellow_tripdata_pandas))\n",
        "print(yellow_tripdata_pandas.sample(n=1))\n",
        "\n",
        "\n",
        "print('\\nSQLite:')\n",
        "\n",
        "# Generates SQLite database and load data from Pandas Dataframe into table\n",
        "db_sqlite = sqlite3.connect('yellow_tripdate_sqlite.db')\n",
        "yellow_tripdata_pandas.to_sql('yellow_tripdata_2016_01', db_sqlite, index=False)\n",
        "\n",
        "sqlite_cursor = db_sqlite.cursor() # Creates a Cursor, that allows us to issue SQL Stataments\n",
        "print(sqlite_cursor.execute(\"SELECT count(*) FROM yellow_tripdata_2016_01\").fetchall())\n",
        "print(sqlite_cursor.execute(\"SELECT * FROM yellow_tripdata_2016_01 LIMIT 1\").fetchall())"
      ],
      "execution_count": 3,
      "outputs": [
        {
          "output_type": "stream",
          "name": "stdout",
          "text": [
            "\n",
            "Pandas:\n",
            "10905067\n",
            "         VendorID tpep_pickup_datetime tpep_dropoff_datetime  passenger_count  \\\n",
            "5874863         2  2016-01-17 04:39:39   2016-01-17 04:50:57                1   \n",
            "\n",
            "         trip_distance  RatecodeID store_and_fwd_flag  PULocationID  \\\n",
            "5874863           4.58           1                  N           164   \n",
            "\n",
            "         DOLocationID  payment_type  fare_amount  extra  mta_tax  tip_amount  \\\n",
            "5874863            74             1         14.0    0.5      0.5        3.06   \n",
            "\n",
            "         tolls_amount  improvement_surcharge  total_amount  \\\n",
            "5874863           0.0                    0.3         18.36   \n",
            "\n",
            "        congestion_surcharge airport_fee  \n",
            "5874863                 None        None  \n",
            "\n",
            "SQLite:\n",
            "[(10905067,)]\n",
            "[(1, '2016-01-01 00:12:22', '2016-01-01 00:29:14', 1, 3.2, 1, 'N', 48, 262, 1, 14.0, 0.5, 0.5, 3.06, 0.0, 0.3, 18.36, None, None)]\n"
          ]
        }
      ]
    },
    {
      "cell_type": "markdown",
      "metadata": {
        "id": "YKAtnEB2PuCp"
      },
      "source": [
        "How do we load data in DuckDB? https://duckdb.org/docs/data/overview https://duckdb.org/docs/data/parquet\n",
        "\n"
      ]
    },
    {
      "cell_type": "code",
      "metadata": {
        "id": "ejriXVhQP1X2",
        "colab": {
          "base_uri": "https://localhost:8080/"
        },
        "outputId": "a5407850-ac92-4936-991d-66902d4d3ebc"
      },
      "source": [
        "import duckdb\n",
        "import time\n",
        "\n",
        "\n",
        "print('\\nDuckDB:')\n",
        "\n",
        "db = duckdb.connect('yellow_tripdata_duck.db')\n",
        "duck_cursor = db.cursor()\n",
        "\n",
        "# Replace '...' below with your DuckDB SQL query !\n",
        "sql_load = \"\"\"\n",
        "CREATE TABLE yellow_tripdata_2016_01 AS SELECT * FROM 'yellow_tripdata_2016-01.parquet'\n",
        "\"\"\"\n",
        "# Replace '...' above with your DuckDB SQL query !\n",
        "\n",
        "duck_cursor.execute(sql_load)\n",
        "\n",
        "print(duck_cursor.execute(\"SELECT count(*) FROM yellow_tripdata_2016_01\").fetchall())\n",
        "print(duck_cursor.execute(\"SELECT * FROM yellow_tripdata_2016_01 LIMIT 1\").fetchall())"
      ],
      "execution_count": 4,
      "outputs": [
        {
          "output_type": "stream",
          "name": "stdout",
          "text": [
            "\n",
            "DuckDB:\n",
            "[(10905067,)]\n",
            "[(1, datetime.datetime(2016, 1, 1, 0, 12, 22), datetime.datetime(2016, 1, 1, 0, 29, 14), 1, 3.2, 1, 'N', 48, 262, 1, 14.0, 0.5, 0.5, 3.06, 0.0, 0.3, 18.36, None, None)]\n"
          ]
        }
      ]
    },
    {
      "cell_type": "markdown",
      "metadata": {
        "id": "vyDSVNG1TmPi"
      },
      "source": [
        "# **Queries** [25 pts]"
      ]
    },
    {
      "cell_type": "markdown",
      "metadata": {
        "id": "W4wqtjzlT30T"
      },
      "source": [
        "**Query Q1 [10 pts]**: Count distinct values for each column.\n",
        "\n",
        "**TIP:** We provide you with the pandas implementation, be sure to use it to check for correctness!\n",
        "\n",
        "In the first query we want to compare the performance of a simple hash-function in our Database Management Systems (DBMSs). To do so, we implement and run a query that counts the distinct values for each column.\n",
        "In general, most systems use hash-based algorithms to find the distinct values in a large set of values (e.g., a database column).\n",
        "Obs: Sort-based algorithm are an alternative but usually slower.\n"
      ]
    },
    {
      "cell_type": "code",
      "metadata": {
        "id": "sy7O9XS0T9kJ",
        "colab": {
          "base_uri": "https://localhost:8080/"
        },
        "outputId": "8ecde935-9d4a-4023-f22c-1d4021a7e5aa"
      },
      "source": [
        "import time\n",
        "\n",
        "\n",
        "# SQL:\n",
        "# Replace '...' below with your SQL query (The same syntax works for both SQLite and DuckDB) !\n",
        "sql_01 = \"\"\"\n",
        "SELECT\n",
        "    COUNT(DISTINCT VendorID),\n",
        "    COUNT(DISTINCT tpep_pickup_datetime),\n",
        "    COUNT(DISTINCT tpep_dropoff_datetime),\n",
        "    COUNT(DISTINCT passenger_count),\n",
        "    COUNT(DISTINCT trip_distance),\n",
        "    COUNT(DISTINCT RatecodeID),\n",
        "    COUNT(DISTINCT store_and_fwd_flag),\n",
        "    COUNT(DISTINCT PULocationID),\n",
        "    COUNT(DISTINCT DOLocationID),\n",
        "    COUNT(DISTINCT payment_type),\n",
        "    COUNT(DISTINCT fare_amount),\n",
        "    COUNT(DISTINCT extra),\n",
        "    COUNT(DISTINCT mta_tax),\n",
        "    COUNT(DISTINCT tip_amount),\n",
        "    COUNT(DISTINCT tolls_amount),\n",
        "    COUNT(DISTINCT improvement_surcharge),\n",
        "    COUNT(DISTINCT total_amount),\n",
        "    COUNT(DISTINCT congestion_surcharge),\n",
        "    COUNT(DISTINCT airport_fee)\n",
        "FROM yellow_tripdata_2016_01\n",
        "\"\"\"\n",
        "# Replace '...' above with your SQL query (The same syntax works for both SQLite and DuckDB) !\n",
        "\n",
        "\n",
        "# Pandas:\n",
        "def query_01_pandas():\n",
        "  print('\\nPandas:')\n",
        "  print(\n",
        "    yellow_tripdata_pandas['VendorID'].nunique(),\n",
        "    yellow_tripdata_pandas['tpep_pickup_datetime'].nunique(),\n",
        "    yellow_tripdata_pandas['tpep_dropoff_datetime'].nunique(),\n",
        "    yellow_tripdata_pandas['passenger_count'].nunique(),\n",
        "    yellow_tripdata_pandas['trip_distance'].nunique(),\n",
        "    yellow_tripdata_pandas['RatecodeID'].nunique(),\n",
        "    yellow_tripdata_pandas['store_and_fwd_flag'].nunique(),\n",
        "    yellow_tripdata_pandas['PULocationID'].nunique(),\n",
        "    yellow_tripdata_pandas['DOLocationID'].nunique(),\n",
        "    yellow_tripdata_pandas['payment_type'].nunique(),\n",
        "    yellow_tripdata_pandas['fare_amount'].nunique(),\n",
        "    yellow_tripdata_pandas['extra'].nunique(),\n",
        "    yellow_tripdata_pandas['mta_tax'].nunique(),\n",
        "    yellow_tripdata_pandas['tip_amount'].nunique(),\n",
        "    yellow_tripdata_pandas['tolls_amount'].nunique(),\n",
        "    yellow_tripdata_pandas['improvement_surcharge'].nunique(),\n",
        "    yellow_tripdata_pandas['total_amount'].nunique(),\n",
        "    yellow_tripdata_pandas['congestion_surcharge'].nunique(),\n",
        "    yellow_tripdata_pandas['airport_fee'].nunique()\n",
        "  )\n",
        "\n",
        "\n",
        "# SQLite:\n",
        "def query_01_sqlite():\n",
        "    print('\\nSQLite:')\n",
        "    sqlite_cursor.execute(sql_01)\n",
        "    result = sqlite_cursor.fetchone()\n",
        "    print(result)\n",
        "\n",
        "\n",
        "# DuckDB:\n",
        "def query_01_duckdb():\n",
        "    print('\\nDuckDB:')\n",
        "    duck_cursor.execute(sql_01)\n",
        "    result = duck_cursor.fetchall()\n",
        "    print(result)\n",
        "\n",
        "\n",
        "print('Results:')\n",
        "\n",
        "start = time.time()\n",
        "query_01_pandas()\n",
        "time_pandas = time.time() - start\n",
        "\n",
        "start = time.time()\n",
        "query_01_sqlite()\n",
        "time_sqlite = time.time() - start\n",
        "\n",
        "start = time.time()\n",
        "query_01_duckdb()\n",
        "time_duckdb = time.time() - start\n",
        "\n",
        "print('\\nTimes:')\n",
        "print('Pandas: ' + str(time_pandas))\n",
        "print('SQLite: ' + str(time_sqlite))\n",
        "print('DuckDB: ' + str(time_duckdb))"
      ],
      "execution_count": 8,
      "outputs": [
        {
          "output_type": "stream",
          "name": "stdout",
          "text": [
            "Results:\n",
            "\n",
            "Pandas:\n",
            "2 2368538 2372446 10 4512 7 2 261 262 5 1862 35 15 3550 939 3 11158 0 0\n",
            "\n",
            "SQLite:\n",
            "(2, 2368538, 2372446, 10, 4512, 7, 2, 261, 262, 5, 1862, 35, 15, 3550, 939, 3, 11158, 0, 0)\n",
            "\n",
            "DuckDB:\n",
            "[(2, 2368538, 2372446, 10, 4512, 7, 2, 261, 262, 5, 1862, 35, 15, 3550, 939, 3, 11158, 0, 0)]\n",
            "\n",
            "Times:\n",
            "Pandas: 4.059165954589844\n",
            "SQLite: 54.050997495651245\n",
            "DuckDB: 4.369325160980225\n"
          ]
        }
      ]
    },
    {
      "cell_type": "markdown",
      "metadata": {
        "id": "AnE6A2olT954"
      },
      "source": [
        "\n",
        "\n",
        "In our second query, we want to compare the performance of the aggregation/grouping functions.\n",
        "**Query Q2 [15 pts]**: What's the avg/max/min frequency of events grouped by day and hour? (Recall that each record in the data set represents one event.)\n",
        "\n",
        "**TIP_1** : Start by writing a subquery that groups the data by Day/Hour and counts all events.\n",
        "\n",
        "For duckdb:\n",
        "EXTRACT(DOY FROM tpep_pickup_datetime), EXTRACT(HOUR FROM tpep_pickup_datetime)\n",
        "\n",
        "For Sqlite:\n",
        "strftime('%j', tpep_pickup_datetime), strftime('%H', tpep_pickup_datetime) for\n",
        "\n",
        "**TIP_2**: After writing the subquery, get the avg, min and max values of it\n",
        "\n",
        "For your convenience, we already provide the Pandas implementation, remember to use it for correctness/logic purposes."
      ]
    },
    {
      "cell_type": "code",
      "metadata": {
        "id": "oypnNM8qZel2",
        "colab": {
          "base_uri": "https://localhost:8080/"
        },
        "outputId": "de6772ae-35b5-492a-93b3-0a629cf6e3cf"
      },
      "source": [
        "# SQLite SQL:\n",
        "# Replace '...' below with your SQLite SQL query !\n",
        "sql_02_sqlite = \"\"\"\n",
        "SELECT\n",
        "    MIN(event),\n",
        "    AVG(event),\n",
        "    MAX(event)\n",
        "FROM (\n",
        "    SELECT\n",
        "        COUNT(*) AS event\n",
        "    FROM\n",
        "        yellow_tripdata_2016_01\n",
        "    GROUP BY\n",
        "        strftime('%j', tpep_pickup_datetime),\n",
        "        strftime('%H', tpep_pickup_datetime)\n",
        "    )\n",
        "\"\"\"\n",
        "# Replace '...' above with your SQLite SQL query !\n",
        "\n",
        "\n",
        "# DuckDB SQL:\n",
        "# Replace '...' below with your DuckDB SQL query !\n",
        "sql_02_duckdb = \"\"\"\n",
        "SELECT\n",
        "    MIN(event),\n",
        "    AVG(event),\n",
        "    MAX(event)\n",
        "FROM (\n",
        "    SELECT\n",
        "        COUNT(*) AS event\n",
        "    FROM\n",
        "        yellow_tripdata_2016_01\n",
        "    GROUP BY\n",
        "        EXTRACT(DOY FROM tpep_pickup_datetime),\n",
        "        EXTRACT(HOUR FROM tpep_pickup_datetime)\n",
        "    )\n",
        "\"\"\"\n",
        "# Replace '...' above with your DuckDB SQL query !\n",
        "\n",
        "\n",
        "# Pandas:\n",
        "def query_02_pandas():\n",
        "    print('\\nPandas:')\n",
        "    df = yellow_tripdata_pandas[[\"VendorID\", \"tpep_pickup_datetime\"]]\n",
        "    df['day'] = pandas.to_datetime(df['tpep_pickup_datetime'], format='%Y-%m-%d %H:%M:%S').dt.day\n",
        "    df['hour'] = pandas.to_datetime(df['tpep_pickup_datetime'], format='%Y-%m-%d %H:%M:%S').dt.hour\n",
        "    res = df.groupby(['day', 'hour']).agg({'VendorID': 'count'})\n",
        "    print(res[\"VendorID\"].min(),res[\"VendorID\"].mean(),res[\"VendorID\"].max())\n",
        "\n",
        "\n",
        "# SQLite:\n",
        "def query_02_sqlite():\n",
        "    print('\\nSQLite:')\n",
        "    sqlite_cursor.execute(sql_02_sqlite)\n",
        "    result = sqlite_cursor.fetchall()\n",
        "    print(result)\n",
        "\n",
        "\n",
        "# DuckDB:\n",
        "def query_02_duckdb():\n",
        "    print('\\nDuckDB:')\n",
        "    duck_cursor.execute(sql_02_duckdb)\n",
        "    result = duck_cursor.fetchall()\n",
        "    print(result)\n",
        "\n",
        "\n",
        "print('Results:')\n",
        "\n",
        "start = time.time()\n",
        "query_02_pandas()\n",
        "time_pandas = time.time() - start\n",
        "\n",
        "start = time.time()\n",
        "query_02_sqlite()\n",
        "time_sqlite = time.time() - start\n",
        "\n",
        "start = time.time()\n",
        "query_02_duckdb()\n",
        "time_duckdb = time.time() - start\n",
        "\n",
        "print('\\nTimes:')\n",
        "print('Pandas: ' + str(time_pandas))\n",
        "print('SQLite: ' + str(time_sqlite))\n",
        "print('DuckDB: ' + str(time_duckdb))"
      ],
      "execution_count": null,
      "outputs": [
        {
          "output_type": "stream",
          "name": "stdout",
          "text": [
            "Results:\n",
            "\n",
            "Pandas:\n"
          ]
        },
        {
          "output_type": "stream",
          "name": "stderr",
          "text": [
            "<ipython-input-7-588a981f17f6>:45: SettingWithCopyWarning: \n",
            "A value is trying to be set on a copy of a slice from a DataFrame.\n",
            "Try using .loc[row_indexer,col_indexer] = value instead\n",
            "\n",
            "See the caveats in the documentation: https://pandas.pydata.org/pandas-docs/stable/user_guide/indexing.html#returning-a-view-versus-a-copy\n",
            "  df['day'] = pandas.to_datetime(df['tpep_pickup_datetime'], format='%Y-%m-%d %H:%M:%S').dt.day\n",
            "<ipython-input-7-588a981f17f6>:46: SettingWithCopyWarning: \n",
            "A value is trying to be set on a copy of a slice from a DataFrame.\n",
            "Try using .loc[row_indexer,col_indexer] = value instead\n",
            "\n",
            "See the caveats in the documentation: https://pandas.pydata.org/pandas-docs/stable/user_guide/indexing.html#returning-a-view-versus-a-copy\n",
            "  df['hour'] = pandas.to_datetime(df['tpep_pickup_datetime'], format='%Y-%m-%d %H:%M:%S').dt.hour\n"
          ]
        },
        {
          "output_type": "stream",
          "name": "stdout",
          "text": [
            "8 14657.34811827957 28511\n",
            "\n",
            "SQLite:\n",
            "[(8, 14657.34811827957, 28511)]\n",
            "\n",
            "DuckDB:\n",
            "[(8, 14657.34811827957, 28511)]\n",
            "\n",
            "Times:\n",
            "Pandas: 1.239544153213501\n",
            "SQLite: 17.60347056388855\n",
            "DuckDB: 0.4161984920501709\n"
          ]
        }
      ]
    },
    {
      "cell_type": "markdown",
      "metadata": {
        "id": "CqqmSeKvIN2L"
      },
      "source": [
        "# **Machine Learning : Fare Estimation** [40 pts]"
      ]
    },
    {
      "cell_type": "markdown",
      "metadata": {
        "id": "9-AA_rgyIYpI"
      },
      "source": [
        "Here you will need to use the data to do the most basic form of machine learning: [linear regression](https://en.wikipedia.org/wiki/Ordinary_least_squares#Simple_linear_regression_model). You can train a simple estimator that takes the trip distance and estimates the price. For this exercise we provide the linear regression using pandas. Your goal is to mimic the pandas computation in both SQLite and DuckDB, and compare the computation time until the calculation of linear regression's parameters alpha and beta **(Which must be the same in all three systems, i.e., alpha and beta calculated by SQLite and DuckDB must be the same as those calculated by Pandas; take this into consideration to check if your answer is correct)**."
      ]
    },
    {
      "cell_type": "code",
      "metadata": {
        "id": "AR6hF_QgI3Y4",
        "colab": {
          "base_uri": "https://localhost:8080/",
          "height": 504
        },
        "outputId": "45bb851f-f778-4490-9118-8caa161e27a5"
      },
      "source": [
        "cov_xy = (yellow_tripdata_pandas[\"trip_distance\"] * yellow_tripdata_pandas[\"fare_amount\"]).sum() - (\n",
        "    yellow_tripdata_pandas[\"trip_distance\"].sum() * yellow_tripdata_pandas[\"fare_amount\"].sum()\n",
        ") / len(yellow_tripdata_pandas)\n",
        "var_xy = (yellow_tripdata_pandas[\"trip_distance\"] ** 2).sum() - yellow_tripdata_pandas[\"trip_distance\"].sum() ** 2 / len(yellow_tripdata_pandas)\n",
        "beta = cov_xy / var_xy\n",
        "alpha = yellow_tripdata_pandas[\"fare_amount\"].mean() - beta * yellow_tripdata_pandas[\"trip_distance\"].mean()\n",
        "\n",
        "print(alpha)\n",
        "# 12.486907739140417\n",
        "print(beta)\n",
        "# 4.6752084884145456e-06\n",
        "\n",
        "# Select some sample data and see how well we can fit the price\n",
        "sample = yellow_tripdata_pandas.sample(10000)\n",
        "sample[\"price\"] = alpha + beta * sample[\"trip_distance\"]\n",
        "ax = sample.plot.scatter(x=\"trip_distance\", y=\"fare_amount\")\n",
        "sample.plot.line(x=\"trip_distance\", y=\"price\", ax=ax, color=\"red\")"
      ],
      "execution_count": null,
      "outputs": [
        {
          "output_type": "stream",
          "name": "stdout",
          "text": [
            "12.487179884846471\n",
            "4.985959270134312e-06\n"
          ]
        },
        {
          "output_type": "execute_result",
          "data": {
            "text/plain": [
              "<Axes: xlabel='trip_distance', ylabel='fare_amount'>"
            ]
          },
          "metadata": {},
          "execution_count": 11
        },
        {
          "output_type": "display_data",
          "data": {
            "text/plain": [
              "<Figure size 640x480 with 1 Axes>"
            ],
            "image/png": "[encoded data removed]"
          },
          "metadata": {}
        }
      ]
    },
    {
      "cell_type": "markdown",
      "metadata": {
        "id": "MSNgeIoyJeBN"
      },
      "source": [
        "As you can tell from the above image, as with any real life dataset, the New York City trip dataset also contains outliers that we need to clean to get a good regression. Hence we need to get rid of the noisy data that disturbs our basic regression example.\n",
        "\n",
        "**Note**: The pandas program above is merely to show the dirty data/outliers, consider the following one for the rest of this section."
      ]
    },
    {
      "cell_type": "code",
      "metadata": {
        "id": "6SFDISlWJ01R",
        "colab": {
          "base_uri": "https://localhost:8080/",
          "height": 557
        },
        "outputId": "fb19aa68-ed56-4d8f-f1bd-c5f5025db814"
      },
      "source": [
        "start = time.time()\n",
        "cap_fare = yellow_tripdata_pandas[\"fare_amount\"].mean() + 3 * yellow_tripdata_pandas[\"fare_amount\"].std()\n",
        "cap_distance = yellow_tripdata_pandas[\"trip_distance\"].mean() + 3 * yellow_tripdata_pandas[\"trip_distance\"].std()\n",
        "df_filtered = yellow_tripdata_pandas.query(\n",
        "    f\"trip_distance > 0 and trip_distance < {cap_distance} and fare_amount > 0 and fare_amount < {cap_fare}\"\n",
        ")\n",
        "\n",
        "# Train on the filtered data\n",
        "cov_xy = (df_filtered[\"trip_distance\"] * df_filtered[\"fare_amount\"]).sum() - (\n",
        "    df_filtered[\"trip_distance\"].sum() * df_filtered[\"fare_amount\"].sum()\n",
        ") / len(df_filtered)\n",
        "var_xy = (df_filtered[\"trip_distance\"] ** 2).sum() - df_filtered[\n",
        "    \"trip_distance\"\n",
        "].sum() ** 2 / len(df_filtered)\n",
        "beta = cov_xy / var_xy\n",
        "alpha = df_filtered[\"fare_amount\"].mean() - beta * df_filtered[\"trip_distance\"].mean()\n",
        "\n",
        "print(alpha)\n",
        "# 4.651606864471554\n",
        "print(beta)\n",
        "# 2.661444816924383\n",
        "end = time.time()\n",
        "print(\"Alpha: \" + str(alpha))\n",
        "print(\"Beta: \" + str(beta))\n",
        "print(\"ML Regression in Pandas: \" +str(end - start))\n",
        "# Plot and check whether it fits better this time\n",
        "sample[\"price\"] = alpha + beta * sample[\"trip_distance\"]\n",
        "ax = sample.plot.scatter(x=\"trip_distance\", y=\"fare_amount\")\n",
        "sample.plot.line(x=\"trip_distance\", y=\"price\", ax=ax, color=\"red\")"
      ],
      "execution_count": null,
      "outputs": [
        {
          "output_type": "stream",
          "name": "stdout",
          "text": [
            "4.651616991535136\n",
            "2.661441728292328\n",
            "Alpha: 4.651616991535136\n",
            "Beta: 2.661441728292328\n",
            "ML Regression in Pandas: 2.867133617401123\n"
          ]
        },
        {
          "output_type": "execute_result",
          "data": {
            "text/plain": [
              "<Axes: xlabel='trip_distance', ylabel='fare_amount'>"
            ]
          },
          "metadata": {},
          "execution_count": 12
        },
        {
          "output_type": "display_data",
          "data": {
            "text/plain": [
              "<Figure size 640x480 with 1 Axes>"
            ],
            "image/png": "[encoded data removed]"
          },
          "metadata": {}
        }
      ]
    },
    {
      "cell_type": "markdown",
      "metadata": {
        "id": "g0ZKXzBaKS7v"
      },
      "source": [
        "Now, your task is to perform the same linear regression using both duckdb and sqlite."
      ]
    },
    {
      "cell_type": "markdown",
      "metadata": {
        "id": "IBwc6FGCySin"
      },
      "source": [
        "**SQLite**:\n",
        "Since SQLite doesn't have a function to compute the standard deviation and its a bit more complex than doing it in duckdb. We provide you with a solution that should be taken as inspiration for duckdb.\n",
        "Here you only have to implement lines 46 and 49 to generate the samples necessary to plot a sample of the data + linear regression."
      ]
    },
    {
      "cell_type": "code",
      "metadata": {
        "id": "shfAO9MpyYMO",
        "colab": {
          "base_uri": "https://localhost:8080/",
          "height": 521
        },
        "outputId": "98fd84e8-ed27-478e-94ff-8d8d3a3180a8"
      },
      "source": [
        "import math\n",
        "start = time.time()\n",
        "sqlite_cursor.execute(\"\"\"\n",
        "    SELECT\n",
        "        count(*),\n",
        "        sub.avg_fa as avg_fare,\n",
        "        sum((fare_amount - sub.avg_fa) * (fare_amount - sub.avg_fa)) as var_fare,\n",
        "        sub.avg_td as avg_distance,\n",
        "        sum((trip_distance - sub.avg_td) * (trip_distance - sub.avg_td)) as var_distance\n",
        "    FROM\n",
        "        yellow_tripdata_2016_01,\n",
        "        (\n",
        "            SELECT\n",
        "                AVG(fare_amount) as avg_fa,\n",
        "                AVG(trip_distance) as avg_td\n",
        "            FROM yellow_tripdata_2016_01\n",
        "        ) as sub\n",
        "\"\"\")\n",
        "n, avg_fare, var_fare, avg_distance, var_distance = sqlite_cursor.fetchone()\n",
        "max_fare = avg_fare + 3 * math.sqrt(var_fare / (n - 1))\n",
        "max_distance = avg_distance + 3 * math.sqrt(var_distance / (n - 1))\n",
        "max_fare, max_distance\n",
        "\n",
        "sqlite_cursor.execute(f\"\"\"\n",
        "SELECT\n",
        "    (SUM(trip_distance * fare_amount) - SUM(trip_distance) * SUM(fare_amount) / COUNT(*)) /\n",
        "    (SUM(trip_distance * trip_distance) - SUM(trip_distance) * SUM(trip_distance) / COUNT(*)) AS beta,\n",
        "    AVG(fare_amount) AS avg_fare_amount,\n",
        "    AVG(trip_distance) AS avg_trip_distance\n",
        "FROM yellow_tripdata_2016_01\n",
        "WHERE\n",
        "    fare_amount > 0 AND\n",
        "    fare_amount < {max_fare} AND\n",
        "    trip_distance > 0 AND\n",
        "    trip_distance < {max_distance}\n",
        "\"\"\")\n",
        "beta, avg_fare_amount, avg_trip_distance = sqlite_cursor.fetchone()\n",
        "alpha = avg_fare_amount - beta * avg_trip_distance\n",
        "end = time.time()\n",
        "print(\"Alpha: \" + str(alpha))\n",
        "print(\"Beta: \" + str(beta))\n",
        "print(\"ML Regression in SQLite: \" +str(end - start))\n",
        "\n",
        "\n",
        "#Get a uniform random sample (size 1000) of trip_distance and fare_amount for plotting\n",
        "#TIP : Use ORDER BY RANDOM() and Limit\n",
        "# Replace '...' below with your SQLite SQL query !\n",
        "sqlite_sample = \"\"\"\n",
        "SELECT\n",
        "    trip_distance, fare_amount\n",
        "FROM\n",
        "    yellow_tripdata_2016_01\n",
        "ORDER BY\n",
        "    RANDOM()\n",
        "LIMIT 1000\n",
        "\"\"\"\n",
        "# Replace '...' above with your SQLite SQL query !\n",
        "\n",
        "#Get a pandas dataframe from sqlite\n",
        "#TIP : pandas has a function to transform sqlite query results to a dataframe\n",
        "# Replace '...' below with your Pandas expression !\n",
        "sqlite_df_sample = pandas.DataFrame(sqlite_cursor.execute(sqlite_sample).fetchall(),\n",
        "                                    columns=['trip_distance', 'fare_amount'])\n",
        "# Replace '...' above with your Pandas expression !\n",
        "\n",
        "sqlite_df_sample[\"price\"] = alpha + beta * sqlite_df_sample[\"trip_distance\"]\n",
        "ax = sqlite_df_sample.plot.scatter(x=\"trip_distance\", y=\"fare_amount\")\n",
        "sqlite_df_sample.plot.line(x=\"trip_distance\", y=\"price\", ax=ax, color=\"red\")"
      ],
      "execution_count": null,
      "outputs": [
        {
          "output_type": "stream",
          "name": "stdout",
          "text": [
            "Alpha: 4.65161699157053\n",
            "Beta: 2.661441728279978\n",
            "ML Regression in SQLite: 14.662589073181152\n"
          ]
        },
        {
          "output_type": "execute_result",
          "data": {
            "text/plain": [
              "<Axes: xlabel='trip_distance', ylabel='fare_amount'>"
            ]
          },
          "metadata": {},
          "execution_count": 13
        },
        {
          "output_type": "display_data",
          "data": {
            "text/plain": [
              "<Figure size 640x480 with 1 Axes>"
            ],
            "image/png": "[encoded data removed]"
          },
          "metadata": {}
        }
      ]
    },
    {
      "cell_type": "markdown",
      "metadata": {
        "id": "vmYLsxUIyQEN"
      },
      "source": [
        "**DUCKDB**\n",
        "\n",
        "*TIP: DuckDB has a STDDEV_SAMP function (i.e., function that calculates standard deviation) and thus you can do the whole regression using one query.*\n",
        "\n",
        "**Remember that alpha and beta calculated by your DuckDB solution MUST have the same values as the ones calculated by the Pandas solution above!**"
      ]
    },
    {
      "cell_type": "code",
      "metadata": {
        "id": "cSvOOki7Lf9W",
        "colab": {
          "base_uri": "https://localhost:8080/",
          "height": 521
        },
        "outputId": "adc0bbf9-2cf7-4d16-e43f-8e5f45cda638"
      },
      "source": [
        "start = time.time()\n",
        "#Implement the regression query\n",
        "# Replace '...' below with your DuckDB SQL query !\n",
        "duck_regression = \"\"\"\n",
        "SELECT\n",
        "    (SUM(trip_distance * fare_amount) - SUM(trip_distance) * SUM(fare_amount) / COUNT(*)) /\n",
        "    (SUM(trip_distance * trip_distance) - SUM(trip_distance) * SUM(trip_distance) / COUNT(*)) AS beta,\n",
        "    AVG(fare_amount) AS avg_fare_amount,\n",
        "    AVG(trip_distance) AS avg_trip_distance\n",
        "FROM yellow_tripdata_2016_01\n",
        "WHERE\n",
        "    fare_amount > 0 AND\n",
        "    fare_amount < (SELECT AVG(fare_amount) + 3 * STDDEV_SAMP(fare_amount) FROM yellow_tripdata_2016_01) AND\n",
        "    trip_distance > 0 AND\n",
        "    trip_distance < (SELECT AVG(trip_distance) + 3 * STDDEV_SAMP(trip_distance) FROM yellow_tripdata_2016_01)\n",
        "\"\"\"\n",
        "# Replace '...' above with your DuckDB SQL query !\n",
        "\n",
        "duck_cursor.execute(duck_regression)\n",
        "#Get the values from beta and alpha from the query (replace ... for code):\n",
        "# Replace '...' below with your DuckDB Python expression !\n",
        "beta, avg_fare_amount, avg_trip_distance = duck_cursor.fetchone()\n",
        "# Replace '...' above with your DuckDB Python expression !\n",
        "alpha = avg_fare_amount - beta * avg_trip_distance\n",
        "end = time.time()\n",
        "print(\"Alpha: \" + str(alpha))\n",
        "print(\"Beta: \" + str(beta))\n",
        "print(\"ML Regression in DuckDB: \" +str(end - start))\n",
        "#Get a uniform random sample (size 1000) of trip_distance and fare_amount for plotting\n",
        "#TIP : Use ORDER BY RANDOM() and Limit\n",
        "# Replace '...' below with your DuckDB SQL query !\n",
        "duck_sample = \"\"\"\n",
        "SELECT\n",
        "    trip_distance, fare_amount\n",
        "FROM\n",
        "    yellow_tripdata_2016_01\n",
        "ORDER BY\n",
        "    RANDOM()\n",
        "LIMIT 1000\n",
        "\"\"\"\n",
        "# Replace '...' above with your DuckDB SQL query !\n",
        "\n",
        "#Get a pandas dataframe from duckdb\n",
        "#TIP : duckdb python's client has a function to transform query results to a dataframe\n",
        "# Replace '...' below with your DuckDB Python expression !\n",
        "duck_df_sample = pandas.DataFrame(duck_cursor.execute(duck_sample).fetchall(),\n",
        "                                    columns=['trip_distance', 'fare_amount'])\n",
        "# Replace '...' above with your DuckDB Python expression !\n",
        "\n",
        "duck_df_sample[\"price\"] = alpha + beta * duck_df_sample[\"trip_distance\"]\n",
        "ax = duck_df_sample.plot.scatter(x=\"trip_distance\", y=\"fare_amount\")\n",
        "duck_df_sample.plot.line(x=\"trip_distance\", y=\"price\", ax=ax, color=\"red\")"
      ],
      "execution_count": 10,
      "outputs": [
        {
          "output_type": "stream",
          "name": "stdout",
          "text": [
            "Alpha: 4.651616991460753\n",
            "Beta: 2.6614417283181417\n",
            "ML Regression in DuckDB: 0.773068904876709\n"
          ]
        },
        {
          "output_type": "execute_result",
          "data": {
            "text/plain": [
              "<Axes: xlabel='trip_distance', ylabel='fare_amount'>"
            ]
          },
          "metadata": {},
          "execution_count": 10
        },
        {
          "output_type": "display_data",
          "data": {
            "text/plain": [
              "<Figure size 640x480 with 1 Axes>"
            ],
            "image/png": "[encoded data removed]"
          },
          "metadata": {}
        }
      ]
    }
  ]
}